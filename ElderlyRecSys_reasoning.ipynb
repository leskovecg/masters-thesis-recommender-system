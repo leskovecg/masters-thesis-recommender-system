{
 "cells": [
  {
   "cell_type": "markdown",
   "metadata": {},
   "source": [
    "# On elderly recsys reasoning"
   ]
  },
  {
   "cell_type": "markdown",
   "metadata": {},
   "source": [
    "$\\def\\eps{\\varepsilon}$\n",
    "\n",
    "## Intro\n",
    "\n",
    "This is a short description of reasoning towards building elderly recommender system.\n",
    "\n",
    "\n",
    "Notations\n",
    "- $a$, $a_i$: action\n",
    "- $(a_i:i)$: action sequence\n",
    "- $\\phi$: action score\n",
    "- $\\psi$: action compatibility\n",
    "\n",
    "\n",
    "\n",
    "#### 1. Action sequence score\n",
    "\n",
    "Action sequence $(a_i:i)$  score is given by \n",
    "$$ \\phi(a_i:i) = \\sum_i \\phi(a_i) - (1-\\prod_{i<j} \\psi(a_i, a_j)) $$\n",
    "\n",
    "Single action score of a user uID is user's score on that aspect, multiplied by her anwser to that question. Normalisation is done per all involved users and actions.\n",
    "\n",
    "#### 2. Action compatibility\n",
    "\n",
    "Compatibility is determined for pairs of actions $(a_i, a_j)$ and then all these pair compatibilites are multiplied. Compatibility range is $[0, 1]$ where $1$ is for fully compatible and $0$ for noncompatible ones. Compatibility is set according action groups (aspects), where actions of the same group is incompatible and actions of different groups are compatible. \n",
    "\n",
    "Current option is:\n",
    "- compatibility of same group actions: 0.1\n",
    "- compatibility of different group actions: 0.9\n",
    "This can be preset and made dependent on speciffic groups. \n",
    "\n",
    "\n",
    "#### 3. Normalisation of scores and compatibilities\n",
    "\n",
    "We normalize scores and compatibilies at stages:\n",
    "- anwsers for each group (aspect) are normalized to $[0, 1]$\n",
    "- sum of anwsers from all groups (aspect) are normalized to $[0, 1]$\n",
    "- \n",
    "\n",
    "#### 4. On context\n",
    "\n",
    "We provide recommendations ingoring context, but possible contexts are generated alongside recomended actions. At the time of recommendatin, current time and possibly place is known and, according to it, the recommendation text is suppleneted by time and place recommendations. \n",
    "\n",
    "Evaluation of context impact: we preselect training set only for actions in a given context. "
   ]
  },
  {
   "cell_type": "markdown",
   "metadata": {},
   "source": []
  },
  {
   "cell_type": "markdown",
   "metadata": {},
   "source": []
  }
 ],
 "metadata": {
  "language_info": {
   "name": "python"
  }
 },
 "nbformat": 4,
 "nbformat_minor": 2
}
