{
 "cells": [
  {
   "cell_type": "code",
   "execution_count": null,
   "id": "d180de3f",
   "metadata": {},
   "outputs": [],
   "source": [
    "import pickle\n",
    "from pathlib import Path\n",
    "\n",
    "# en primer outputa D_lst:\n",
    "\n",
    "# [2,\n",
    "#   ('Ac_AB4_1_Act01',),\n",
    "#   ({'qID': 'Ac_AB4_1',\n",
    "#     'C_T1': 'ob kosilu',\n",
    "#     'C_T2': 'nan',\n",
    "#     'C_T3': 'nan',\n",
    "#     'C_P1': 'kjerkoli',\n",
    "#     'C_P2': 'nan',\n",
    "#     'C_P3': 'nan'},),\n",
    "#   1.875335040596766]\n",
    "\n",
    "######################3\n",
    "\n",
    "# vrednosti tega primera: \n",
    "\n",
    "\n",
    "# 2: uporabnik ID ali oznaka \n",
    "# \n",
    "# ('Ac_AB4_1_Act01',): ID aktivnosti \n",
    "#\n",
    "# konteskt (info o času in prostoru): \n",
    "# ({'qID': 'Ac_AB4_1',\n",
    "#     'C_T1': 'ob kosilu',\n",
    "#     'C_T2': 'nan',\n",
    "#     'C_T3': 'nan',\n",
    "#     'C_P1': 'kjerkoli',\n",
    "#     'C_P2': 'nan',\n",
    "#     'C_P3': 'nan'},) \n",
    "# \n",
    "# vrednost(ocena aktinvosti): 1.875335040596766 \n",
    "\n",
    "BASE_DIR = Path.cwd().parent  \n",
    "matD_path = BASE_DIR / 'data'\n",
    "D_mat_fn = 'D_contx_a3_sparse_mat.pkl'\n",
    "\n",
    "with open(matD_path / D_mat_fn, \"rb\") as fp:\n",
    "    D_lst = pickle.load(fp)"
   ]
  },
  {
   "cell_type": "code",
   "execution_count": 6,
   "id": "863987a5",
   "metadata": {},
   "outputs": [
    {
     "name": "stdout",
     "output_type": "stream",
     "text": [
      "[[2, ('Ac_AB4_1_Act01',), ({'qID': 'Ac_AB4_1', 'C_T1': 'ob kosilu', 'C_T2': 'nan', 'C_T3': 'nan', 'C_P1': 'kjerkoli', 'C_P2': 'nan', 'C_P3': 'nan'},), 1.875335040596766], [2, ('Ac_AB4_1_Act02',), ({'qID': 'Ac_AB4_1', 'C_T1': 'ob malici', 'C_T2': 'ob malici', 'C_T3': 'nan', 'C_P1': 'kjerkoli', 'C_P2': 'nan', 'C_P3': 'nan'},), 1.875335040596766], [2, ('Ac_AB4_1_Act03',), ({'qID': 'Ac_AB4_1', 'C_T1': 'ob zajtrkui', 'C_T2': 'ob večerji', 'C_T3': 'nan', 'C_P1': 'kjerkoli', 'C_P2': 'nan', 'C_P3': 'nan'},), 1.875335040596766], [2, ('Ac_AB4_1_Act04',), ({'qID': 'Ac_AB4_1', 'C_T1': 'ob kosilu', 'C_T2': 'nan', 'C_T3': 'nan', 'C_P1': 'kjerkoli', 'C_P2': 'nan', 'C_P3': 'nan'},), 1.875335040596766], [2, ('Ac_AB4_1_Act05',), ({'qID': 'Ac_AB4_1', 'C_T1': 'podnevi', 'C_T2': 'nan', 'C_T3': 'nan', 'C_P1': 'kjerkoli', 'C_P2': 'nan', 'C_P3': 'nan'},), 1.875335040596766]]\n"
     ]
    }
   ],
   "source": [
    "print(D_lst[:5])"
   ]
  },
  {
   "cell_type": "code",
   "execution_count": 12,
   "id": "649271e0",
   "metadata": {},
   "outputs": [
    {
     "name": "stdout",
     "output_type": "stream",
     "text": [
      "Število zapisov: 1850178\n",
      "Povprečje (ocena aktinvosti): 1.289\n",
      "Mediana: 1.232\n",
      "Standardni odklon: 0.817\n",
      "Min: 0.310\n",
      "Max: 5.000\n"
     ]
    }
   ],
   "source": [
    "import numpy as np\n",
    "\n",
    "# Predpostavljamo, da je D_lst seznam, kjer je ocena aktivnosti na 4. mestu vsakega elementa\n",
    "\n",
    "# Izlušči ocene aktivnosti\n",
    "ocene = [item[3] for item in D_lst if len(item) > 3]\n",
    "\n",
    "# Osnovna statistika\n",
    "print(f\"Število zapisov: {len(ocene)}\")\n",
    "print(f\"Povprečje (ocena aktinvosti): {np.mean(ocene):.3f}\")\n",
    "print(f\"Mediana: {np.median(ocene):.3f}\")\n",
    "print(f\"Standardni odklon: {np.std(ocene):.3f}\")\n",
    "print(f\"Min: {np.min(ocene):.3f}\")\n",
    "print(f\"Max: {np.max(ocene):.3f}\")"
   ]
  },
  {
   "cell_type": "code",
   "execution_count": 11,
   "id": "a13a6163",
   "metadata": {},
   "outputs": [
    {
     "data": {
      "text/plain": [
       "[2,\n",
       " ('Ac_AB4_1_Act01',),\n",
       " ({'qID': 'Ac_AB4_1',\n",
       "   'C_T1': 'ob kosilu',\n",
       "   'C_T2': 'nan',\n",
       "   'C_T3': 'nan',\n",
       "   'C_P1': 'kjerkoli',\n",
       "   'C_P2': 'nan',\n",
       "   'C_P3': 'nan'},),\n",
       " 1.875335040596766]"
      ]
     },
     "execution_count": 11,
     "metadata": {},
     "output_type": "execute_result"
    }
   ],
   "source": [
    "D_lst[0]"
   ]
  },
  {
   "cell_type": "code",
   "execution_count": 10,
   "id": "ad9180a1",
   "metadata": {},
   "outputs": [
    {
     "data": {
      "text/plain": [
       "[2196,\n",
       " ('Ac_AB4_5_Act01', 'Ac_AB4_8_Act10', 'Ac_AB4_8_Act11'),\n",
       " ({'qID': 'Ac_AB4_5',\n",
       "   'C_T1': 'zjutraj',\n",
       "   'C_T2': 'dopoldne',\n",
       "   'C_T3': 'popoldne',\n",
       "   'C_P1': 'doma',\n",
       "   'C_P2': 'nan',\n",
       "   'C_P3': 'nan'},\n",
       "  {'qID': 'Ac_AB4_8',\n",
       "   'C_T1': 'zjutraj',\n",
       "   'C_T2': 'dopoldne',\n",
       "   'C_T3': 'zvečer',\n",
       "   'C_P1': 'doma',\n",
       "   'C_P2': 'v telovadnici',\n",
       "   'C_P3': 'v parku'},\n",
       "  {'qID': 'Ac_AB4_8',\n",
       "   'C_T1': 'zjutraj',\n",
       "   'C_T2': 'dopoldne',\n",
       "   'C_T3': 'zvečer',\n",
       "   'C_P1': 'doma',\n",
       "   'C_P2': 'v telovadnici',\n",
       "   'C_P3': 'v parku'}),\n",
       " 0.3425561519211241]"
      ]
     },
     "execution_count": 10,
     "metadata": {},
     "output_type": "execute_result"
    }
   ],
   "source": [
    "D_lst[1850177]"
   ]
  },
  {
   "cell_type": "code",
   "execution_count": null,
   "id": "6ce3656b",
   "metadata": {},
   "outputs": [],
   "source": []
  }
 ],
 "metadata": {
  "kernelspec": {
   "display_name": "Python 3",
   "language": "python",
   "name": "python3"
  },
  "language_info": {
   "codemirror_mode": {
    "name": "ipython",
    "version": 3
   },
   "file_extension": ".py",
   "mimetype": "text/x-python",
   "name": "python",
   "nbconvert_exporter": "python",
   "pygments_lexer": "ipython3",
   "version": "3.11.3"
  }
 },
 "nbformat": 4,
 "nbformat_minor": 5
}
